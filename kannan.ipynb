{
  "nbformat": 4,
  "nbformat_minor": 0,
  "metadata": {
    "colab": {
      "provenance": []
    },
    "kernelspec": {
      "name": "python3",
      "display_name": "Python 3"
    },
    "language_info": {
      "name": "python"
    }
  },
  "cells": [
    {
      "cell_type": "code",
      "source": [
        "import pandas as pd"
      ],
      "metadata": {
        "id": "DlKc-VznTUo-"
      },
      "execution_count": 10,
      "outputs": []
    },
    {
      "cell_type": "code",
      "execution_count": 8,
      "metadata": {
        "colab": {
          "base_uri": "https://localhost:8080/"
        },
        "id": "4kAkHiHWR7Ut",
        "outputId": "28a6ce71-1bd8-4cf4-da77-1b07998cf2dd"
      },
      "outputs": [
        {
          "output_type": "stream",
          "name": "stdout",
          "text": [
            "What is your name? kannan\n",
            "Hello, kannan!\n"
          ]
        }
      ],
      "source": [
        "\n",
        "\n",
        "name = input(\"What is your name?\n",
        "print(f\"Hello, {name}!\")\n",
        "\n",
        "\n"
      ]
    },
    {
      "cell_type": "code",
      "source": [
        "\n",
        "number = float(input(\"Please enter a number: \"\n",
        "square = number\n",
        "print(\"The square of\", number, \"is\", square)\n"
      ],
      "metadata": {
        "colab": {
          "base_uri": "https://localhost:8080/"
        },
        "id": "SxBEgSpVVNT-",
        "outputId": "676d2087-9fb3-4ed4-c128-1fbcd95dce08"
      },
      "execution_count": 9,
      "outputs": [
        {
          "output_type": "stream",
          "name": "stdout",
          "text": [
            "Please enter a number: 4\n",
            "The square of 4.0 is 16.0\n"
          ]
        }
      ]
    },
    {
      "cell_type": "code",
      "source": [
        "def sum_of_squares(a, b):\n",
        "    def sum_squares(n):\n",
        "        return n * (n + 1) * (2 * n + 1) // 6\n",
        "\n",
        "    return sum_squares(b) - sum_squares(a - 1)\n",
        "\n",
        "\n",
        "\n",
        "\n",
        "\n",
        "\n",
        "\n",
        "\n"
      ],
      "metadata": {
        "id": "gmUwVYI_V6iQ"
      },
      "execution_count": 12,
      "outputs": []
    },
    {
      "cell_type": "code",
      "source": [],
      "metadata": {
        "id": "tz4NvG0oXXhC"
      },
      "execution_count": 10,
      "outputs": []
    }
  ]
}